{
  "nbformat": 4,
  "nbformat_minor": 0,
  "metadata": {
    "colab": {
      "name": "Python-Bank Class.ipynb",
      "provenance": [],
      "authorship_tag": "ABX9TyPQBX/XIBtnLpzPjIWlmEDL",
      "include_colab_link": true
    },
    "kernelspec": {
      "name": "python3",
      "display_name": "Python 3"
    }
  },
  "cells": [
    {
      "cell_type": "markdown",
      "metadata": {
        "id": "view-in-github",
        "colab_type": "text"
      },
      "source": [
        "<a href=\"https://colab.research.google.com/github/mradulpandya/Python-Class-bank-with-various-banking-function-/blob/main/Python_Bank_Class.ipynb\" target=\"_parent\"><img src=\"https://colab.research.google.com/assets/colab-badge.svg\" alt=\"Open In Colab\"/></a>"
      ]
    },
    {
      "cell_type": "code",
      "metadata": {
        "colab": {
          "base_uri": "https://localhost:8080/"
        },
        "id": "6lwf-d3bU2jF",
        "outputId": "152a2e37-7639-44b0-9c79-59d6e81ac798"
      },
      "source": [
        "class Banking_Services:\r\n",
        "    balance = 0\r\n",
        "    amount_deposited = 0\r\n",
        "    amount_withdrawn = 0\r\n",
        "\r\n",
        "    def menu(self):\r\n",
        "        choice = 0\r\n",
        "        while (choice != 5):\r\n",
        "            print(\"**********WELCOME**********\")\r\n",
        "            print()\r\n",
        "            print(\"Press 1 to Deposit Money\")\r\n",
        "            print(\"Press 2 to Withdraw Money\")\r\n",
        "            print(\"Press 3 to Check Balance\")\r\n",
        "            print(\"Press 4 to View Transactions Statement\")\r\n",
        "            print(\"Press 5 to Exit\")\r\n",
        "            print()\r\n",
        "            try:\r\n",
        "                choice = int(input(\"Enter your Choice : \"))\r\n",
        "                if choice == 1:\r\n",
        "                    print(self.money_deposit())\r\n",
        "                elif choice == 2:\r\n",
        "                    print(self.money_withdraw())\r\n",
        "                elif choice == 3:\r\n",
        "                    print(self.Balance_check())\r\n",
        "                elif choice == 4:\r\n",
        "                    print(self.Transaction_Statements())\r\n",
        "                elif choice == 5:\r\n",
        "                    print(\"Exiting.....\")\r\n",
        "                    break\r\n",
        "                else:\r\n",
        "                    print(\"Invalid choice : Try again\")\r\n",
        "            except:\r\n",
        "                print(\"Invalid detail\")\r\n",
        "\r\n",
        "    def account(self):\r\n",
        "        self.account_no = int(input(\"Enter the account number :\"))\r\n",
        "        self.name = str(input(\"Enter the name :\"))\r\n",
        "\r\n",
        "    def money_deposit(self):\r\n",
        "        self.amount_deposited = int(input('Enter the amount to deposit:'))\r\n",
        "        self.balance += self.amount_deposited\r\n",
        "        if self.amount_deposited >= 500:\r\n",
        "            print(\"Deposited Successfully\")\r\n",
        "            print(\"Better Luck Next Tme...\")\r\n",
        "\r\n",
        "    def money_withdraw(self):\r\n",
        "        self.amount_withdrawn = int(input(\"Enter Amount To Withdrawn :\"))\r\n",
        "        if self.balance >= self.amount_withdrawn:\r\n",
        "            self.balance -= self.amount_withdrawn\r\n",
        "            print(\"Withdrawal Successfully\")\r\n",
        "        else:\r\n",
        "            print(\"Insufficient Balance\")\r\n",
        "\r\n",
        "    def Balance_check(self):\r\n",
        "        print('Balance is : %d\\n' % self.balance)\r\n",
        "\r\n",
        "    def Transaction_Statements(self):\r\n",
        "        print('Account Number=%d' % self.account_no)\r\n",
        "        print('Account Holder=%s' % self.name)\r\n",
        "        print('Amount Deposited=%d' % self.amount_deposited)\r\n",
        "        print('Amount Withdrawn=%d' % self.amount_withdrawn)\r\n",
        "\r\n",
        "banking = Banking_Services()\r\n",
        "banking.account()\r\n",
        "banking.menu()"
      ],
      "execution_count": 2,
      "outputs": [
        {
          "output_type": "stream",
          "text": [
            "Enter the account number :4513267980\n",
            "Enter the name :raj\n",
            "**********WELCOME**********\n",
            "\n",
            "Press 1 to Deposit Money\n",
            "Press 2 to Withdraw Money\n",
            "Press 3 to Check Balance\n",
            "Press 4 to View Transactions Statement\n",
            "Press 5 to Exit\n",
            "\n",
            "Enter your Choice : 1\n",
            "Enter the amount to deposit:5000\n",
            "Deposited Successfully\n",
            "Better Luck Next Tme...\n",
            "None\n",
            "**********WELCOME**********\n",
            "\n",
            "Press 1 to Deposit Money\n",
            "Press 2 to Withdraw Money\n",
            "Press 3 to Check Balance\n",
            "Press 4 to View Transactions Statement\n",
            "Press 5 to Exit\n",
            "\n",
            "Enter your Choice : 2\n",
            "Enter Amount To Withdrawn :500\n",
            "Withdrawal Successfully\n",
            "None\n",
            "**********WELCOME**********\n",
            "\n",
            "Press 1 to Deposit Money\n",
            "Press 2 to Withdraw Money\n",
            "Press 3 to Check Balance\n",
            "Press 4 to View Transactions Statement\n",
            "Press 5 to Exit\n",
            "\n",
            "Enter your Choice : 3\n",
            "Balance is : 4500\n",
            "\n",
            "None\n",
            "**********WELCOME**********\n",
            "\n",
            "Press 1 to Deposit Money\n",
            "Press 2 to Withdraw Money\n",
            "Press 3 to Check Balance\n",
            "Press 4 to View Transactions Statement\n",
            "Press 5 to Exit\n",
            "\n",
            "Enter your Choice : 4\n",
            "Account Number=4513267980\n",
            "Account Holder=raj\n",
            "Amount Deposited=5000\n",
            "Amount Withdrawn=500\n",
            "None\n",
            "**********WELCOME**********\n",
            "\n",
            "Press 1 to Deposit Money\n",
            "Press 2 to Withdraw Money\n",
            "Press 3 to Check Balance\n",
            "Press 4 to View Transactions Statement\n",
            "Press 5 to Exit\n",
            "\n",
            "Enter your Choice : 6\n",
            "Invalid choice : Try again\n",
            "**********WELCOME**********\n",
            "\n",
            "Press 1 to Deposit Money\n",
            "Press 2 to Withdraw Money\n",
            "Press 3 to Check Balance\n",
            "Press 4 to View Transactions Statement\n",
            "Press 5 to Exit\n",
            "\n",
            "Enter your Choice : 5\n",
            "Exiting.....\n"
          ],
          "name": "stdout"
        }
      ]
    },
    {
      "cell_type": "code",
      "metadata": {
        "id": "CgLIiTTAs_Ey"
      },
      "source": [
        ""
      ],
      "execution_count": null,
      "outputs": []
    },
    {
      "cell_type": "markdown",
      "metadata": {
        "id": "icGBXNjwALAG"
      },
      "source": [
        ""
      ]
    },
    {
      "cell_type": "code",
      "metadata": {
        "id": "XxnE2dRYWbuu"
      },
      "source": [
        ""
      ],
      "execution_count": null,
      "outputs": []
    }
  ]
}