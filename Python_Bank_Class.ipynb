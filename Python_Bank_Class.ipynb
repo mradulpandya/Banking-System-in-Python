{
  "nbformat": 4,
  "nbformat_minor": 0,
  "metadata": {
    "colab": {
      "name": "Python-Bank Class.ipynb",
      "provenance": [],
      "authorship_tag": "ABX9TyPGQNGWJLk06Y/w3o3iPUxJ",
      "include_colab_link": true
    },
    "kernelspec": {
      "name": "python3",
      "display_name": "Python 3"
    }
  },
  "cells": [
    {
      "cell_type": "markdown",
      "metadata": {
        "id": "view-in-github",
        "colab_type": "text"
      },
      "source": [
        "<a href=\"https://colab.research.google.com/github/mradulpandya/Python-Class-bank-with-various-banking-function-/blob/main/Python_Bank_Class.ipynb\" target=\"_parent\"><img src=\"https://colab.research.google.com/assets/colab-badge.svg\" alt=\"Open In Colab\"/></a>"
      ]
    },
    {
      "cell_type": "code",
      "metadata": {
        "colab": {
          "base_uri": "https://localhost:8080/"
        },
        "id": "6lwf-d3bU2jF",
        "outputId": "22592c8d-5e2b-47e3-cb79-2c81517d5185"
      },
      "source": [
        "class Banking_Services:\r\n",
        "    balance = 0\r\n",
        "    amount_deposited = 0\r\n",
        "    amount_withdrawn = 0\r\n",
        "\r\n",
        "    def account(self):\r\n",
        "        self.account_no = int(input(\"Enter the account number :\"))\r\n",
        "        self.name = str(input(\"Enter the name :\"))\r\n",
        "\r\n",
        "    def money_deposit(self):\r\n",
        "        self.amount_deposited = float(input('Enter the amount to deposit:'))\r\n",
        "        self.balance += self.amount_deposited\r\n",
        "        if self.amount_deposited >= 500:\r\n",
        "            print(\"Better Luck Next Tme...\")\r\n",
        "\r\n",
        "    def money_withdraw(self):\r\n",
        "        self.amount_withdrawn = float(input(\"Enter Amount To Withdrawn :\"))\r\n",
        "        if self.balance >= self.amount_withdrawn:\r\n",
        "            self.balance -= self.amount_withdrawn\r\n",
        "        else:\r\n",
        "            print(\"Insufficient Balance\")\r\n",
        "\r\n",
        "    def Balance_check(self):\r\n",
        "        print('Balance is : %d\\n' % self.balance)\r\n",
        "\r\n",
        "    def Transaction_Statements(self):\r\n",
        "        print('Account Number=%d' % self.account_no)\r\n",
        "        print('Account Holder=%s' % self.name)\r\n",
        "        print('Amount Deposited=%d' % self.amount_deposited)\r\n",
        "        print('Amount Withdrawn=%d' % self.amount_withdrawn)\r\n",
        "\r\n",
        "\r\n",
        "bank = Banking_Services()\r\n",
        "bank.account()\r\n",
        "bank.money_deposit()\r\n",
        "bank.money_withdraw()\r\n",
        "bank.Balance_check()\r\n",
        "bank.Transaction_Statements()"
      ],
      "execution_count": null,
      "outputs": [
        {
          "output_type": "stream",
          "text": [
            "Enter the account number :5487961320\n",
            "Enter the name :Raj\n",
            "Enter the amount to deposit:1000\n",
            "Better Luck Next Tme...\n",
            "Enter Amount To Withdrawn :200\n",
            "Balance is : 800\n",
            "\n",
            "Account Number=5487961320\n",
            "Account Holder=Raj\n",
            "Amount Deposited=1000\n",
            "Amount Withdrawn=200\n"
          ],
          "name": "stdout"
        }
      ]
    },
    {
      "cell_type": "markdown",
      "metadata": {
        "id": "icGBXNjwALAG"
      },
      "source": [
        ""
      ]
    },
    {
      "cell_type": "code",
      "metadata": {
        "id": "XxnE2dRYWbuu"
      },
      "source": [
        ""
      ],
      "execution_count": null,
      "outputs": []
    }
  ]
}